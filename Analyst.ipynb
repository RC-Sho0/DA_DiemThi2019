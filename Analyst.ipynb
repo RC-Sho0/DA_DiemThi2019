{
  "nbformat": 4,
  "nbformat_minor": 0,
  "metadata": {
    "colab": {
      "name": "Analyst.ipynb",
      "provenance": [],
      "authorship_tag": "ABX9TyN2X0GA6dqLgT6dmePzOud5",
      "include_colab_link": true
    },
    "kernelspec": {
      "name": "python3",
      "display_name": "Python 3"
    },
    "language_info": {
      "name": "python"
    }
  },
  "cells": [
    {
      "cell_type": "markdown",
      "metadata": {
        "id": "view-in-github",
        "colab_type": "text"
      },
      "source": [
        "<a href=\"https://colab.research.google.com/github/RC-Sho0/DA_DiemThi2019/blob/main/Analyst.ipynb\" target=\"_parent\"><img src=\"https://colab.research.google.com/assets/colab-badge.svg\" alt=\"Open In Colab\"/></a>"
      ]
    },
    {
      "cell_type": "markdown",
      "metadata": {
        "id": "_4BMY7SQVwvw"
      },
      "source": [
        "#Đọc file data\n"
      ]
    },
    {
      "cell_type": "code",
      "metadata": {
        "id": "sHn9vMuhRWt8",
        "colab": {
          "base_uri": "https://localhost:8080/"
        },
        "outputId": "150619db-035e-4534-9ac3-47ea6c270ce6"
      },
      "source": [
        "with open(\"antclean_data.csv\") as file:\n",
        "  students = file.read().split('\\n')\n",
        "\n",
        "header = [\"sbd\",\"họ và tên\",\"dd\",\"mm\",\"yy\",\"toán\",\"ngữ văn\",\"khxh\",\"khtn\",\"lịch sử\",\"địa lí\",\"gdcd\",\"sinh học\",\"vật lý\",\"hoá học\",\"tiếng anh\"]\n",
        "total_student = len(students)\n",
        "for i in range(len(students)):\n",
        "  students[i] = students[i].split(',')\n",
        "\n",
        "#remove last empty item\n",
        "students.pop()"
      ],
      "execution_count": 26,
      "outputs": [
        {
          "output_type": "execute_result",
          "data": {
            "text/plain": [
              "['']"
            ]
          },
          "metadata": {
            "tags": []
          },
          "execution_count": 26
        }
      ]
    },
    {
      "cell_type": "markdown",
      "metadata": {
        "id": "JVsZNH6sXP2W"
      },
      "source": [
        "Các môn các thi sinh không thi\n"
      ]
    },
    {
      "cell_type": "code",
      "metadata": {
        "colab": {
          "base_uri": "https://localhost:8080/"
        },
        "id": "V51DaG92XNe9",
        "outputId": "d9d5e26a-21ad-4379-b286-d59f6bba7cb0"
      },
      "source": [
        "subject = header[5:]\n",
        "not_take_exam = [0,0,0,0,0,0,0,0,0,0,0]\n",
        "not_take_exam_per100 = [0,0,0,0,0,0,0,0,0,0,0]\n",
        "\n",
        "for student in students:\n",
        "  for i in range(5,16):\n",
        "    if student[i] == \"-1\":\n",
        "      not_take_exam[i - 5] += 1\n",
        "print(not_take_exam)\n",
        "for i in range(0,11):\n",
        "  not_take_exam_per100[i] = not_take_exam[i]/total_student*100\n",
        "\n",
        "print(not_take_exam_per100)"
      ],
      "execution_count": 33,
      "outputs": [
        {
          "output_type": "stream",
          "text": [
            "[495, 3609, 131759, 86655, 121537, 122968, 131725, 85340, 203819, 203819, 18665]\n",
            "[0.2428613482484545, 1.7706800117750956, 64.64478461387499, 42.515454813070356, 59.62957511529782, 60.3316651947797, 64.62810322833873, 41.87027769600628, 99.99950937101364, 99.99950937101364, 9.157590030418996]\n"
          ],
          "name": "stdout"
        }
      ]
    },
    {
      "cell_type": "markdown",
      "metadata": {
        "id": "JPW_y5hpZ3RZ"
      },
      "source": [
        "Vẽ biểu đồ\n"
      ]
    },
    {
      "cell_type": "code",
      "metadata": {
        "colab": {
          "base_uri": "https://localhost:8080/",
          "height": 283
        },
        "id": "VbX2FN-OZ6Dv",
        "outputId": "7d9d83d3-3980-4e55-e604-4d43f753edfc"
      },
      "source": [
        "import matplotlib.pyplot as plt\n",
        "import numpy as np\n",
        "\n",
        "y_pos = np.arange(len(subject))\n",
        "plt.bar(y_pos,not_take_exam_per100,align=\"center\")\n",
        "plt.xticks(y_pos,subject)\n",
        "plt.title(\"Số học sinh không thi các môn\")\n",
        "plt.show()"
      ],
      "execution_count": 58,
      "outputs": [
        {
          "output_type": "display_data",
          "data": {
            "image/png": "[encoded data removed]",
            "text/plain": [
              "<Figure size 432x288 with 1 Axes>"
            ]
          },
          "metadata": {
            "tags": [],
            "needs_background": "light"
          }
        }
      ]
    }
  ]
}